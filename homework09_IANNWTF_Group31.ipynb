{
  "nbformat": 4,
  "nbformat_minor": 0,
  "metadata": {
    "colab": {
      "name": "Untitled5.ipynb",
      "provenance": [],
      "collapsed_sections": []
    },
    "kernelspec": {
      "name": "python3",
      "display_name": "Python 3"
    },
    "accelerator": "GPU"
  },
  "cells": [
    {
      "cell_type": "markdown",
      "metadata": {
        "id": "x_5XP_xVVJ1C"
      },
      "source": [
        "# Homework 8"
      ]
    },
    {
      "cell_type": "code",
      "metadata": {
        "id": "FgsYZzzyXM1T"
      },
      "source": [
        "import numpy as np\r\n",
        "import tensorflow as tf\r\n",
        "import matplotlib.pyplot as plt\r\n",
        "import time"
      ],
      "execution_count": 153,
      "outputs": []
    },
    {
      "cell_type": "markdown",
      "metadata": {
        "id": "bG_hJtTLVyBr"
      },
      "source": [
        "## 1 The task"
      ]
    },
    {
      "cell_type": "code",
      "metadata": {
        "id": "rC-O3PMAVG0-"
      },
      "source": [
        "def sequence_generator(length,num_samples):\r\n",
        "  for sample in range(num_samples):\r\n",
        "    sequence = list(np.random.randint(0,9, length))\r\n",
        "    context = np.random.randint(0,9,2)\r\n",
        "    count_1 = sequence.count(context[0].astype(int))\r\n",
        "    count_2 = sequence.count(context[1].astype(int))\r\n",
        "    label = [float(count_1>=count_2),float(count_2>=count_1)]\r\n",
        "    context = tf.reshape(tf.one_hot(context, 10), (-1))\r\n",
        "    sequence = tf.one_hot(sequence,10)\r\n",
        "    sample = [tf.concat([context, elem],0) for elem in sequence]\r\n",
        "    yield (tf.convert_to_tensor(sample), tf.reshape(tf.convert_to_tensor(label), (-1,)))"
      ],
      "execution_count": 154,
      "outputs": []
    },
    {
      "cell_type": "code",
      "metadata": {
        "id": "-rs0KBVRvMYk"
      },
      "source": [
        "dataset = tf.data.Dataset.from_generator(sequence_generator, args=(25, 10000), output_signature=(tf.TensorSpec(shape=(25,30),dtype=tf.float32), tf.TensorSpec(shape=(2,),dtype=tf.float32))).cache().batch(64)"
      ],
      "execution_count": 155,
      "outputs": []
    },
    {
      "cell_type": "markdown",
      "metadata": {
        "id": "OeqwPj0wxl_B"
      },
      "source": [
        "## 2 The Network"
      ]
    },
    {
      "cell_type": "code",
      "metadata": {
        "id": "JJ845fhQxL-g"
      },
      "source": [
        "class LSTM_cell(tf.keras.Model):\r\n",
        "  def __init__(self):\r\n",
        "    super(LSTM_cell,self).__init__()\r\n",
        "    \r\n",
        "    self.forget_gate = tf.keras.layers.Dense(units=50, activation='sigmoid', bias_initializer='ones')\r\n",
        "    self.input_gate = tf.keras.layers.Dense(units=50, activation='sigmoid')\r\n",
        "    self.cell_state_candidates = tf.keras.layers.Dense(units=50, activation='tanh')\r\n",
        "    self.output_gate = tf.keras.layers.Dense(units=50, activation='sigmoid')\r\n",
        "\r\n",
        "  @tf.function\r\n",
        "  def call(self, input, h_t, c_t):\r\n",
        "    x_t = input\r\n",
        "\r\n",
        "    # concatenate input and hidden state\r\n",
        "    cell_input = tf.concat((x_t,h_t),1)\r\n",
        "\r\n",
        "    # 1. Preparing\r\n",
        "    f_t = self.forget_gate(cell_input)\r\n",
        "    i_t = self.input_gate(cell_input)\r\n",
        "    c_t = self.cell_state_candidates(cell_input)\r\n",
        "    o_t = self.output_gate(cell_input)\r\n",
        "\r\n",
        "    # 2. Updating the Cell state\r\n",
        "    c_t = f_t*c_t + i_t*c_t\r\n",
        "\r\n",
        "    # 3. Determining the hidden state/output\r\n",
        "    h_t = o_t*tf.nn.tanh(c_t)\r\n",
        "        \r\n",
        "    return (h_t,c_t)"
      ],
      "execution_count": 156,
      "outputs": []
    },
    {
      "cell_type": "code",
      "metadata": {
        "id": "-OfQ41qjxZBO"
      },
      "source": [
        "class LSTM(tf.keras.Model):\r\n",
        "  def __init__(self):\r\n",
        "    super(LSTM,self).__init__()\r\n",
        "\r\n",
        "    self.readin_layer = tf.keras.layers.Dense(units=30)\r\n",
        "    self.LSTM_cell = LSTM_cell()\r\n",
        "    self.readout_layer = tf.keras.layers.Dense(units=2, activation='sigmoid')\r\n",
        "\r\n",
        "  @tf.function\r\n",
        "  def call(self, input, h_t, c_t):\r\n",
        "    x = self.readin_layer(input)\r\n",
        "    \r\n",
        "    # The input is expected to be of shape [batch size, timesteps, input size]\r\n",
        "    timesteps = input.shape[1]\r\n",
        "    # unrolling the LSTM cell\r\n",
        "    for i in tf.range(timesteps):\r\n",
        "      h_t, c_t = self.LSTM_cell(x[:,i,:], h_t, c_t)\r\n",
        "\r\n",
        "    x = self.readout_layer(tf.convert_to_tensor(h_t))\r\n",
        "\r\n",
        "    return(x)"
      ],
      "execution_count": 157,
      "outputs": []
    },
    {
      "cell_type": "code",
      "metadata": {
        "id": "I-COFUUd9Ojj"
      },
      "source": [
        "@tf.function\r\n",
        "def train_step(model, input, target, loss_function, optimizer):\r\n",
        "  with tf.GradientTape() as tape:\r\n",
        "    prediction = model(input, h_t=tf.zeros((input.shape[0],50)), c_t=tf.zeros((input.shape[0],50)))\r\n",
        "    loss = loss_function(target, prediction)\r\n",
        "    gradients = tape.gradient(loss, model.trainable_variables)\r\n",
        "  optimizer.apply_gradients(zip(gradients, model.trainable_variables))\r\n",
        "\r\n",
        "  # accuracy for \"binary\" classification task\r\n",
        "  accuracy = tf.reduce_mean(tf.cast(tf.argmax(target, axis = 1) == tf.argmax(prediction, axis = 1), tf.float32), axis=0)\r\n",
        "\r\n",
        "  return loss, accuracy"
      ],
      "execution_count": 158,
      "outputs": []
    },
    {
      "cell_type": "code",
      "metadata": {
        "colab": {
          "base_uri": "https://localhost:8080/"
        },
        "id": "Ab-KN312_pmh",
        "outputId": "93c35bae-59af-4853-ce56-11274e0e9e4a"
      },
      "source": [
        "tf.keras.backend.clear_session()\r\n",
        "\r\n",
        "model = LSTM()\r\n",
        "\r\n",
        "num_epochs=50\r\n",
        "learning_rate=0.001\r\n",
        "running_average_factor=0.95\r\n",
        "\r\n",
        "loss = tf.keras.losses.BinaryCrossentropy()\r\n",
        "optimizer = tf.keras.optimizers.Adam(learning_rate)\r\n",
        "  \r\n",
        "# Initialize lists for later visualization.\r\n",
        "train_losses = []\r\n",
        "train_accuracies = []\r\n",
        "\r\n",
        "# We train for num_epochs epochs.\r\n",
        "for epoch in range(num_epochs):\r\n",
        "      \r\n",
        "  if epoch == 0:             \r\n",
        "    start = time.time()       \r\n",
        "    time_remaining=\"Unknown\"\r\n",
        "  else:\r\n",
        "    now = time.time()                                         \r\n",
        "    time_per_epoch = ((now-start)/epoch)                      \r\n",
        "    remaining_epochs = num_epochs-epoch                  \r\n",
        "    time_remaining = round(time_per_epoch*remaining_epochs,0)\r\n",
        "  print('Epoch:',str(epoch + 1 ),\"of\",str(num_epochs)+\". Time remaining:\", time_remaining, \"seconds\")  \r\n",
        "\r\n",
        "  # training\r\n",
        "  running_average = 0\r\n",
        "  accuracies = []\r\n",
        "\r\n",
        "  for (input,target) in dataset:\r\n",
        "    train_loss, accuracy = train_step(model, input, target, loss, optimizer)\r\n",
        "    running_average = running_average_factor * running_average  + (1 - running_average_factor) * train_loss\r\n",
        "    accuracies.append(accuracy)\r\n",
        "\r\n",
        "  train_losses.append(running_average.numpy())\r\n",
        "  train_accuracies.append(np.mean(accuracies))\r\n",
        "\r\n",
        "now = time.time()"
      ],
      "execution_count": 159,
      "outputs": [
        {
          "output_type": "stream",
          "text": [
            "Epoch: 1 of 50. Time remaining: Unknown seconds\n",
            "Epoch: 2 of 50. Time remaining: 2687.0 seconds\n",
            "Epoch: 3 of 50. Time remaining: 1412.0 seconds\n",
            "Epoch: 4 of 50. Time remaining: 983.0 seconds\n",
            "Epoch: 5 of 50. Time remaining: 767.0 seconds\n",
            "Epoch: 6 of 50. Time remaining: 636.0 seconds\n",
            "Epoch: 7 of 50. Time remaining: 547.0 seconds\n",
            "Epoch: 8 of 50. Time remaining: 482.0 seconds\n",
            "Epoch: 9 of 50. Time remaining: 432.0 seconds\n",
            "Epoch: 10 of 50. Time remaining: 393.0 seconds\n",
            "Epoch: 11 of 50. Time remaining: 361.0 seconds\n",
            "Epoch: 12 of 50. Time remaining: 334.0 seconds\n",
            "Epoch: 13 of 50. Time remaining: 311.0 seconds\n",
            "Epoch: 14 of 50. Time remaining: 291.0 seconds\n",
            "Epoch: 15 of 50. Time remaining: 273.0 seconds\n",
            "Epoch: 16 of 50. Time remaining: 257.0 seconds\n",
            "Epoch: 17 of 50. Time remaining: 242.0 seconds\n",
            "Epoch: 18 of 50. Time remaining: 229.0 seconds\n",
            "Epoch: 19 of 50. Time remaining: 217.0 seconds\n",
            "Epoch: 20 of 50. Time remaining: 205.0 seconds\n",
            "Epoch: 21 of 50. Time remaining: 195.0 seconds\n",
            "Epoch: 22 of 50. Time remaining: 185.0 seconds\n",
            "Epoch: 23 of 50. Time remaining: 175.0 seconds\n",
            "Epoch: 24 of 50. Time remaining: 166.0 seconds\n",
            "Epoch: 25 of 50. Time remaining: 158.0 seconds\n",
            "Epoch: 26 of 50. Time remaining: 149.0 seconds\n",
            "Epoch: 27 of 50. Time remaining: 141.0 seconds\n",
            "Epoch: 28 of 50. Time remaining: 134.0 seconds\n",
            "Epoch: 29 of 50. Time remaining: 127.0 seconds\n",
            "Epoch: 30 of 50. Time remaining: 120.0 seconds\n",
            "Epoch: 31 of 50. Time remaining: 113.0 seconds\n",
            "Epoch: 32 of 50. Time remaining: 106.0 seconds\n",
            "Epoch: 33 of 50. Time remaining: 99.0 seconds\n",
            "Epoch: 34 of 50. Time remaining: 93.0 seconds\n",
            "Epoch: 35 of 50. Time remaining: 87.0 seconds\n",
            "Epoch: 36 of 50. Time remaining: 81.0 seconds\n",
            "Epoch: 37 of 50. Time remaining: 75.0 seconds\n",
            "Epoch: 38 of 50. Time remaining: 69.0 seconds\n",
            "Epoch: 39 of 50. Time remaining: 63.0 seconds\n",
            "Epoch: 40 of 50. Time remaining: 58.0 seconds\n",
            "Epoch: 41 of 50. Time remaining: 52.0 seconds\n",
            "Epoch: 42 of 50. Time remaining: 46.0 seconds\n",
            "Epoch: 43 of 50. Time remaining: 41.0 seconds\n",
            "Epoch: 44 of 50. Time remaining: 36.0 seconds\n",
            "Epoch: 45 of 50. Time remaining: 30.0 seconds\n",
            "Epoch: 46 of 50. Time remaining: 25.0 seconds\n",
            "Epoch: 47 of 50. Time remaining: 20.0 seconds\n",
            "Epoch: 48 of 50. Time remaining: 15.0 seconds\n",
            "Epoch: 49 of 50. Time remaining: 10.0 seconds\n",
            "Epoch: 50 of 50. Time remaining: 5.0 seconds\n"
          ],
          "name": "stdout"
        }
      ]
    },
    {
      "cell_type": "code",
      "metadata": {
        "colab": {
          "base_uri": "https://localhost:8080/",
          "height": 543
        },
        "id": "qrIn3PZSCKr0",
        "outputId": "b1e92e35-b541-44fe-e410-c3806c7ce17b"
      },
      "source": [
        "plt.figure()\r\n",
        "plt.plot(train_losses)\r\n",
        "plt.xlabel(\"Training steps\")\r\n",
        "plt.ylabel(\"Loss\")\r\n",
        "\r\n",
        "plt.figure()\r\n",
        "plt.plot(train_accuracies)\r\n",
        "plt.xlabel(\"Training steps\")\r\n",
        "plt.ylabel(\"Accuracy\")\r\n",
        "\r\n",
        "plt.show()"
      ],
      "execution_count": 160,
      "outputs": [
        {
          "output_type": "display_data",
          "data": {
            "image/png": "[encoded data removed]",
            "text/plain": [
              "<Figure size 432x288 with 1 Axes>"
            ]
          },
          "metadata": {
            "tags": [],
            "needs_background": "light"
          }
        },
        {
          "output_type": "display_data",
          "data": {
            "image/png": "[encoded data removed]",
            "text/plain": [
              "<Figure size 432x288 with 1 Axes>"
            ]
          },
          "metadata": {
            "tags": [],
            "needs_background": "light"
          }
        }
      ]
    }
  ]
}