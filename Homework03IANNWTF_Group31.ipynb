{
  "nbformat": 4,
  "nbformat_minor": 0,
  "metadata": {
    "colab": {
      "name": "Homework03IANNWTF_Group31",
      "provenance": [],
      "collapsed_sections": []
    },
    "kernelspec": {
      "name": "python3",
      "display_name": "Python 3"
    }
  },
  "cells": [
    {
      "cell_type": "markdown",
      "metadata": {
        "id": "Wn9TqZRGMB93"
      },
      "source": [
        "Group: 31  \n",
        "Members: Linus Kleine Kruthaup, Isabel Grauwelman, Mara Rehmer  \n",
        "Week 3"
      ]
    },
    {
      "cell_type": "code",
      "metadata": {
        "id": "khqtT9JJDqNA"
      },
      "source": [
        "import numpy as np\n",
        "%tensorflow_version 2.x\n",
        "import tensorflow as tf\n",
        "import matplotlib.pyplot as plt\n",
        "import tensorflow_datasets as tfds"
      ],
      "execution_count": 8,
      "outputs": []
    },
    {
      "cell_type": "markdown",
      "metadata": {
        "id": "yOvJ7YpDNIBh"
      },
      "source": [
        "# 1 Data set"
      ]
    },
    {
      "cell_type": "markdown",
      "metadata": {
        "id": "n4Bwgz_hNk3X"
      },
      "source": [
        "## Loading the data"
      ]
    },
    {
      "cell_type": "code",
      "metadata": {
        "id": "BTfChgVLD_Vk"
      },
      "source": [
        "# We separate test and train data and already randomly take out 1000 test and 100000 train samples\n",
        "# we set 'as_supervised = True' so that the labels are included in the dataset\n",
        "ds_test, ds_train = tfds.load('genomics_ood', as_supervised= True, shuffle_files = True, split=['test[:1000]', 'train[:100000]'])"
      ],
      "execution_count": 9,
      "outputs": []
    },
    {
      "cell_type": "markdown",
      "metadata": {
        "id": "yALvTyqfNZJi"
      },
      "source": [
        "## One-hot-encoding"
      ]
    },
    {
      "cell_type": "code",
      "metadata": {
        "id": "yWCXsqEDhV3o"
      },
      "source": [
        "# Since the genomic sequences come as string-tensors, we use the given onehotify function.\n",
        "# It converts the genomic sequences consisting of combination of 'A','G','C' and 'T' to a tensor that\n",
        "# contains the one-hot-encoded sequence\n",
        "def onehotify(tensor):\n",
        "  vocab = {'A':'1', 'C': '2', 'G':'3', 'T':'0'}\n",
        "  for key in vocab.keys():\n",
        "    tensor = tf.strings.regex_replace(tensor, key, vocab[key])\n",
        "  split = tf.strings.bytes_split(tensor)\n",
        "  labels = tf.cast(tf.strings.to_number(split), tf.uint8)\n",
        "  onehot = tf.one_hot(labels, 4)\n",
        "  onehot = tf.reshape(onehot, (-1,))\n",
        "  return onehot\n"
      ],
      "execution_count": 10,
      "outputs": []
    },
    {
      "cell_type": "markdown",
      "metadata": {
        "id": "9nVc8du4NojW"
      },
      "source": [
        "## Input pipeline"
      ]
    },
    {
      "cell_type": "code",
      "metadata": {
        "id": "fOSycLaBiJfI"
      },
      "source": [
        "# Now we use the onehotify() function for the genomic sequence input and the tf.one_hot() function for the targets/labels.\n",
        "# We do that to the test and the train dataset respectively.\n",
        "# To improve runtime, we include batch(128) and prefetch(5).\n",
        "# batch(128) groups multiple datapoints together.\n",
        "# prefetch(2) allows later elements to be prepared while the current element is being processed.\n",
        "test_dataset = ds_test.map(lambda input, target: (onehotify(input), tf.one_hot(target, 10))).batch(128).prefetch(2)\n",
        "train_dataset = ds_train.map(lambda input, target: (onehotify(input), tf.one_hot(target, 10))).batch(128).prefetch(2)"
      ],
      "execution_count": 11,
      "outputs": []
    },
    {
      "cell_type": "markdown",
      "metadata": {
        "id": "ocZI7JclNsyy"
      },
      "source": [
        "# 2 Model"
      ]
    },
    {
      "cell_type": "code",
      "metadata": {
        "id": "7a4DuVHzGvQo"
      },
      "source": [
        "# We will implement a simple fully connected feed forward neural network with the following layers:\n",
        "#\n",
        "# Hidden layer 1: 256 units. With sigmoid activation function.\n",
        "# Hidden layer 2: 256 units. With sigmoid activation function.\n",
        "# Output: 10 units. With softmax activation function.\n",
        "\n",
        "from tensorflow.keras import Model\n",
        "from tensorflow.keras.layers import Layer\n",
        "\n",
        "class Model(Model): \n",
        "    \n",
        "    def __init__(self):\n",
        "        super(Model, self).__init__()\n",
        "        # Define the three layers.\n",
        "        self.hidden_layer_1 = tf.keras.layers.Dense(units=256,\n",
        "                                               activation=tf.keras.activations.sigmoid\n",
        "                                               )\n",
        "        self.hidden_layer_2 = tf.keras.layers.Dense(units=256,\n",
        "                                               activation=tf.keras.activations.sigmoid\n",
        "                                               )\n",
        "        self.output_layer = tf.keras.layers.Dense(units=10,\n",
        "                                               activation=tf.keras.activations.softmax\n",
        "                                               )\n",
        "    def call(self, x):\n",
        "        # Define the forward step.\n",
        "        x = self.hidden_layer_1(x)\n",
        "        x = self.hidden_layer_2(x)\n",
        "        x = self.output_layer(x)\n",
        "        return x"
      ],
      "execution_count": 12,
      "outputs": []
    },
    {
      "cell_type": "markdown",
      "metadata": {
        "id": "-srcGjUoNyiZ"
      },
      "source": [
        "# 3 Training"
      ]
    },
    {
      "cell_type": "code",
      "metadata": {
        "id": "2r08_RXOtMdU"
      },
      "source": [
        "# Train the model\n",
        "# defining the training step with the loss and optimizer object from the tensorflow classes\n",
        "def train_step(model, input, target, loss_function, optimizer):\n",
        "  with tf.GradientTape() as tape:\n",
        "    prediction = model(input)\n",
        "    loss = loss_function(target, prediction)\n",
        "    gradients = tape.gradient(loss, model.trainable_variables)\n",
        "  optimizer.apply_gradients(zip(gradients, model.trainable_variables))\n",
        "  return loss\n",
        "\n",
        "# We test over the complete test data\n",
        "def test(model, test_dataset, loss_function):\n",
        "  # Initializing lists for the accuracy and the loss respectively\n",
        "  test_accuracy_aggregator = []\n",
        "  test_loss_aggregator = []\n",
        "\n",
        "  for (input, target) in test_dataset:\n",
        "    prediction = model(input)\n",
        "    # we compute the loss\n",
        "    sample_test_loss = loss_function(target, prediction)\n",
        "    # and the accuracy\n",
        "    sample_test_accuracy = np.argmax(target, axis = 1) == np.argmax(prediction, axis = 1)\n",
        "    sample_test_accuracy = np.mean(sample_test_accuracy)\n",
        "    # We append the sample test loss to our loss list\n",
        "    test_loss_aggregator.append(sample_test_loss.numpy())\n",
        "    # We append the mean sample test accuracy to our accuracy list\n",
        "    test_accuracy_aggregator.append(np.mean(sample_test_accuracy))\n",
        "\n",
        "  test_loss = np.mean(test_loss_aggregator)\n",
        "  test_accuracy = np.mean(test_accuracy_aggregator)\n",
        "  # We return the mean test loss and the mean test accuracy\n",
        "  return test_loss, test_accuracy\n"
      ],
      "execution_count": 13,
      "outputs": []
    },
    {
      "cell_type": "code",
      "metadata": {
        "id": "Ykfw3Sx8zNo8",
        "colab": {
          "base_uri": "https://localhost:8080/"
        },
        "outputId": "a045c6e6-3a7d-41f2-a232-d72363f4b27a"
      },
      "source": [
        "# We use the clear_session() to avoid clutter from old models and layers\n",
        "tf.keras.backend.clear_session()\n",
        "\n",
        "# Hyperparameters\n",
        "num_epochs = 10\n",
        "learning_rate = 0.1\n",
        "running_average_factor = 0.95\n",
        "\n",
        "# Initializing the model:\n",
        "model = Model()\n",
        "# Initializing the loss with categorical cross entropy\n",
        "cross_entropy_loss = tf.keras.losses.CategoricalCrossentropy()\n",
        "# Initializing the optimizer with SGD\n",
        "optimizer = tf.keras.optimizers.SGD(learning_rate)\n",
        "\n",
        "# Initializing lists for later visualization\n",
        "train_losses = []\n",
        "test_losses = []\n",
        "test_accuracies = []\n",
        "\n",
        "# testing once before we begin\n",
        "test_loss, test_accuracy = test(model, test_dataset, cross_entropy_loss)\n",
        "test_losses.append(test_loss)\n",
        "test_accuracies.append(test_accuracy)\n",
        "\n",
        "# checking how the model performs on train data once before we begin\n",
        "train_loss, _ = test(model, train_dataset, cross_entropy_loss)\n",
        "train_losses.append(train_loss)\n",
        "\n",
        "# We train for the defines 10 epochs\n",
        "for epoch in range(num_epochs):\n",
        "  print('Epoch: ___' + str(epoch))\n",
        "\n",
        "  train_dataset = train_dataset.shuffle(buffer_size = 128)\n",
        "  test_dataset = test_dataset.shuffle(buffer_size = 128)\n",
        "   \n",
        "  # We compute the running average \n",
        "  running_average = 0\n",
        "  for (input,target) in train_dataset:\n",
        "      train_loss = train_step(model, input, target, cross_entropy_loss, optimizer)\n",
        "      running_average = running_average_factor * running_average  + (1 - running_average_factor) * train_loss\n",
        "  train_losses.append(running_average)\n",
        "\n",
        "  # testing\n",
        "  test_loss, test_accuracy = test(model, test_dataset, cross_entropy_loss)\n",
        "  test_losses.append(test_loss)\n",
        "  test_accuracies.append(test_accuracy)\n"
      ],
      "execution_count": 14,
      "outputs": [
        {
          "output_type": "stream",
          "text": [
            "Epoch: ___0\n",
            "Epoch: ___1\n",
            "Epoch: ___2\n",
            "Epoch: ___3\n",
            "Epoch: ___4\n",
            "Epoch: ___5\n",
            "Epoch: ___6\n",
            "Epoch: ___7\n",
            "Epoch: ___8\n",
            "Epoch: ___9\n"
          ],
          "name": "stdout"
        }
      ]
    },
    {
      "cell_type": "markdown",
      "metadata": {
        "id": "NvdVm1WdN3Tq"
      },
      "source": [
        "# Visualization"
      ]
    },
    {
      "cell_type": "code",
      "metadata": {
        "id": "zQm5tYbw4ICR",
        "colab": {
          "base_uri": "https://localhost:8080/",
          "height": 541
        },
        "outputId": "42d275b6-c432-4243-a9dd-90e1d749476a"
      },
      "source": [
        "# We visualize accuracy and loss for training and test data\n",
        "# One plot is for training and test loss, one is for training and test accuracy.\n",
        "\n",
        "plt.figure()\n",
        "line1, = plt.plot(train_losses)\n",
        "line2, = plt.plot(test_losses)\n",
        "plt.xlabel(\"Training steps\")\n",
        "plt.ylabel(\"Loss\")\n",
        "plt.legend((line1,line2),(\"training\",\"test\"))\n",
        "plt.show()\n",
        "\n",
        "plt.figure()\n",
        "line1, = plt.plot(test_accuracies)\n",
        "plt.xlabel(\"Training steps\")\n",
        "plt.ylabel(\"Accuracy\")\n",
        "plt.show()"
      ],
      "execution_count": 15,
      "outputs": [
        {
          "output_type": "display_data",
          "data": {
            "image/png": "[encoded data removed]",
            "text/plain": [
              "<Figure size 432x288 with 1 Axes>"
            ]
          },
          "metadata": {
            "tags": [],
            "needs_background": "light"
          }
        },
        {
          "output_type": "display_data",
          "data": {
            "image/png": "[encoded data removed]",
            "text/plain": [
              "<Figure size 432x288 with 1 Axes>"
            ]
          },
          "metadata": {
            "tags": [],
            "needs_background": "light"
          }
        }
      ]
    },
    {
      "cell_type": "markdown",
      "metadata": {
        "id": "mM8W6rS_N6o8"
      },
      "source": [
        "# Saving"
      ]
    },
    {
      "cell_type": "code",
      "metadata": {
        "id": "vXyVvm08GzsX"
      },
      "source": [
        "# saving the model\n",
        "\n",
        "model.save_weights('genomics_ood_mlp.h5')"
      ],
      "execution_count": 16,
      "outputs": []
    }
  ]
}