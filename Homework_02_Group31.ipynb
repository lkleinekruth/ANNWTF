{
 "cells": [
  {
   "cell_type": "markdown",
   "metadata": {},
   "source": [
    "Group: 31  \n",
    "Members: Linus Kleine Kruthaup, Isabel Grauwelman, Mara Rehmer  \n",
    "Week 2"
   ]
  },
  {
   "cell_type": "markdown",
   "metadata": {},
   "source": [
    "# Multilayer Perceptron for Logical Gates\n",
    "\n",
    "This week we will implement a Multi-layer Perceptron and train it to solve logical gates\n",
    "and the XOR problem. To do so, we will implement backpropagation ourselves."
   ]
  },
  {
   "cell_type": "markdown",
   "metadata": {},
   "source": [
    "## 1 Preparation\n",
    "\n",
    "• What is the purpose of an activation function in NN in general?\n",
    "\n",
    "An activation function decides whether a neuron in the NN is activated by the input or not.\n",
    "It maps the resulting values to values between 0 and 1. \n",
    "\n",
    "• What’s the advantage of e.g. sigmoid over the step function (threshold function)?\n",
    "\n",
    "The sigmoid function is continuous. That is, it can take on values between 0 and 1 as well, whereas the step function can only take on 0 and 1 as discrete values. It also has a clearly defined derivative which we need for example for backpropagation.\n",
    "\n",
    "• How does sigmoid look like (the formula as well as the graph)?\n",
    "\n",
    "$ \\sigma(x) = \\frac{1}{1+e^{-x}} $ \n",
    "\n",
    "• What is the derivative of sigmoid?\n",
    "\n",
    "$ \\sigma'(x) = \\frac{d}{dx} \\sigma(x) = \\frac{d}{dx} \\frac{1}{1+e^{-x}} $  \n",
    "\n",
    "$ \\; \\qquad = \\frac{1}{1+e^{-x}} * (1 - \\frac{1}{1+e^{-x}}) $  \n",
    "\n",
    "$ \\; \\qquad = \\sigma(x) * (1 - \\sigma(x))$\n",
    "\n",
    "Implement a function sigmoid(x) and a function sigmoidprime(x)."
   ]
  },
  {
   "cell_type": "code",
   "execution_count": 2,
   "metadata": {},
   "outputs": [],
   "source": [
    "import numpy as np\n",
    "\n",
    "# define the sigmoid activation function for later use\n",
    "def sigmoid(x):\n",
    "    s = 1/(1+np.exp(-x))\n",
    "    return s\n",
    "\n",
    "# also define its derivative as we will need it later as well\n",
    "def sigmoidprime(x):\n",
    "    s = (sigmoid(x) * (1 - sigmoid(x))\n",
    "    return s"
   ]
  },
  {
   "cell_type": "markdown",
   "metadata": {},
   "source": [
    "## 2 Data Set\n",
    "\n",
    "The training data set will consist of possible **inputs** and their corresponding **labels**.\n",
    "We are training the network on logical gates (and, or, not and, not or, xor = exclusive or). We will create the inputs and labels ourselves.\n",
    "\n",
    "What are possible **inputs** to the logical gates? "
   ]
  },
  {
   "cell_type": "code",
   "execution_count": 3,
   "metadata": {},
   "outputs": [],
   "source": [
    "x = np.array([[1,1],[1,0],[0,1],[0,0]])"
   ]
  },
  {
   "cell_type": "markdown",
   "metadata": {},
   "source": [
    "For each of the logical gates you will need an array of **labels** or **targets** (= the true solution that\n",
    "the network is supposed to output), one corresponding to each input pair."
   ]
  },
  {
   "cell_type": "code",
   "execution_count": 4,
   "metadata": {},
   "outputs": [],
   "source": [
    "# targets\n",
    "t_and = np.array([1,0,0,0])\n",
    "t_or = np.array([1,1,1,0])\n",
    "t_nand = np.array([0,1,1,1])\n",
    "t_nor = np.array([0,0,0,1])\n",
    "t_xor = np.array([0,1,1,0])"
   ]
  },
  {
   "cell_type": "markdown",
   "metadata": {},
   "source": [
    "## 3 Perceptron\n",
    "\n",
    "Our multilayer-Perceptron will consist of single Perceptrons.\n",
    " So we will need a class\n",
    "Perceptron. You can use the one that we have implemented together in the Flipped\n",
    "Classroom Session (should also be uploaded) or create your own.\n",
    "If you want to implement it yourself, think about what a Perceptron consists of. 3\n",
    "When you create a Perceptron, it should receive an int input units with how many\n",
    "weights are coming in to your Perceptron. It should also randomly assign weights and\n",
    "the bias. 4 Also assign the learning rate alpha = 1.\n",
    "The Perceptron should have a function forward step(self, inputs) that calculates\n",
    "the activation of the perceptron. Use sigmoid as activation function.\n",
    "Then you’ll need a function update(self, delta) which updates the parameters. To\n",
    "do so, compute the gradients for weights and bias from the error term δ. (It was handed\n",
    "over when the function was called in the backprop step function of the class MLP().)\n",
    "Compute the gradients using:  \n",
    "$ \\frac{\\partial L}{\\partial w^{(l)}_{ij}} = \\delta^{(l)}_i * a_j^{(l-1)} $\n",
    "\n",
    "And then update the parameters using:  \n",
    "\n",
    "$ \\theta _{new} = \\theta _{old} − \\alpha \\nabla L_{\\theta} $"
   ]
  },
  {
   "cell_type": "code",
   "execution_count": 5,
   "metadata": {},
   "outputs": [],
   "source": [
    "class Perceptron:\n",
    "    \"\"\"\n",
    "    This class represents a single perceptron and can be used to build up a Multi-Layer Perceptron (MLP)\n",
    "    \"\"\"\n",
    "    def __init__(self, input_units):\n",
    "        \n",
    "        self.input_units = input_units\n",
    "        \n",
    "        # initialize random weights and a random bias term\n",
    "        self.weights = np.random.randn(input_units)\n",
    "        self.bias = np.random.randn()\n",
    "        \n",
    "        # define the learning rate as 1\n",
    "        self.alpha = 1\n",
    "    \n",
    "    def forward_step(self, input):\n",
    "        # Perform a perceptron forward step.\n",
    "        # calculate the drive\n",
    "        # (you can use @ as a matrix multiplication command)\n",
    "        weighted_sum =  self.weights @ input + self.bias\n",
    "        \n",
    "        # return drive and activation\n",
    "        return weighted_sum, sigmoid(weighted_sum)\n",
    "    \n",
    "    def update(self, delta, input):\n",
    "        # compute the gradient for the bias\n",
    "        #('activation' of the bias is 1)\n",
    "        gradient_bias = delta * 1\n",
    "        # update the bias\n",
    "        self.bias -= self.alpha * gradient_bias\n",
    "        # compute the gradient for each weight and update\n",
    "        gradient_weights = np.empty(len(self.weights))\n",
    "        for i in range(len(self.weights)):\n",
    "            gradient_weights[i] = delta * input[i]\n",
    "            self.weights[i] -= self.alpha * gradient_weights[i]"
   ]
  },
  {
   "cell_type": "markdown",
   "metadata": {},
   "source": [
    "## 4 Multi-Layer Perceptron\n",
    "\n",
    "Further, we will need a class MLP() that can perform a forward and backprop-step.\n",
    "Initialize the MLP with 1 hidden layer that has 4 Perceptrons. Initialize 1 output neuron. \n",
    "In the forward step process the inputs through the network.\n",
    "In the backprop step update the parameters of the network."
   ]
  },
  {
   "cell_type": "code",
   "execution_count": 6,
   "metadata": {},
   "outputs": [],
   "source": [
    "class MLP:\n",
    "    \n",
    "    def __init__(self, input_units=2, hidden_perceptron_units=4):\n",
    "        self.input_units = input_units\n",
    "        self.hidden_perceptron_units = hidden_perceptron_units # number of perceptrons in the single hidden layer\n",
    "        self.perceptrons = []\n",
    "        \n",
    "        # create Perceptron instances for the hidden layer and append them to the list\n",
    "        for i in range(self.hidden_perceptron_units):\n",
    "            self.perceptrons.append(Perceptron(self.input_units))\n",
    "        \n",
    "        # create a Perceptron instance for the output neuron that has as many inputs\n",
    "        # as there are perceptrons in the hidden layer (one input from each perceptron)\n",
    "        self.output_neuron = Perceptron(len(self.perceptrons))\n",
    "        # create variables for the drive of the output neuron and its final output\n",
    "        self.output : float\n",
    "        self.drive_output : float\n",
    "        # create empty arrays for the drive and the activations (outputs) of the perceptrons\n",
    "        # in the hidden layer\n",
    "        self.activations_hidden = np.empty(len(self.perceptrons))\n",
    "        self.drive_hidden = np.empty(len(self.perceptrons))\n",
    "            \n",
    "    def forward_step(self, input):        \n",
    "        # forward step for each perceptron in the hidden layer\n",
    "        for i in range(len(self.perceptrons)):\n",
    "            self.drive_hidden[i], self.activations_hidden[i] = self.perceptrons[i].forward_step(input)\n",
    "            \n",
    "        # forward step for the output neuron (using the activations/outputs from the hidden layer\n",
    "        # that were calculated in the step before)\n",
    "        self.drive_output, self.output = self.output_neuron.forward_step(self.activations_hidden)\n",
    "        \n",
    "        # return the final output\n",
    "        return self.output\n",
    "    \n",
    "    def backprob_step(self, input, label):\n",
    "        # calculate delta for the output neuron and update its weights and bias\n",
    "        delta_output = -(label - self.output) * sigmoidprime(self.drive_output)\n",
    "        self.output_neuron.update(delta_output, self.activations_hidden)\n",
    "        # calculate delta for each hidden neuron and update its weights and bias\n",
    "        # since we can directly access the output error because we only have one hidden layer,\n",
    "        # we don't have to access the subsequent layer by incrementing the index (l+1)\n",
    "        for i in range(len(self.perceptrons)):\n",
    "            delta_hidden = delta_output * self.output_neuron.weights[i] * sigmoidprime(self.drive_hidden[i])\n",
    "            self.perceptrons[i].update(delta_hidden, input)"
   ]
  },
  {
   "cell_type": "markdown",
   "metadata": {},
   "source": [
    "## 5 Training\n",
    "As a loss function for training we will use the squared error $(t − y)^2$. This loss is the\n",
    "sigmoid output vs. the target. But as discussed in the lecture, we want to introduce an\n",
    "additinal measurement of the performance of the network: This is the accuracy measure.\n",
    "While the loss compares our pro As a threshold use 0.5. Meaning if the network outputs\n",
    "a value bigger than 0.5 and the target is 1, it counts as a correct classification. If target\n",
    "is 0 a correct classification will be a value smaller than 0.5 respectively.\n",
    "Create an instance of the MLP class and train it for a 1000 epochs. One epoch is\n",
    "looping over each point in your dataset once. Perform a forward and backward step for\n",
    "each point in the dataset and record the loss and accuracy. For visualization you should\n",
    "keep track of the epochs and the average loss and accuracy for each epoch."
   ]
  },
  {
   "cell_type": "code",
   "execution_count": 21,
   "metadata": {},
   "outputs": [],
   "source": [
    "# choose logical gate to train on\n",
    "t = t_xor\n",
    "\n",
    "# create an MLP instance \n",
    "# (2 input units and 4 perceptron units in the hidden layer were given in the assignment)\n",
    "mlp = MLP(input_units=2, hidden_perceptron_units=4)\n",
    "\n",
    "# create empty lists for the epochs, average loss and accuracies\n",
    "epochs = []\n",
    "avg_loss = []\n",
    "accuracies = []\n",
    "\n",
    "\n",
    "for i in range(1000): # (1000 epochs were given in the assignment)\n",
    "    # for easy visualization later\n",
    "    epochs.append(i)\n",
    "    # draw a random sample from x and the corresponding t\n",
    "    index = np.random.randint(len(x))\n",
    "    sample = x[index]\n",
    "    label = t[index]\n",
    "    # perform a training step (consisting of the forward step and the backpropagation)\n",
    "    mlp.forward_step(sample)\n",
    "    mlp.backprob_step(sample, label)\n",
    "    \n",
    "    # calculate the performance over all four possible inputs\n",
    "    accuracy_sum = 0\n",
    "    loss_sum = 0\n",
    "    for k in range(len(x)):\n",
    "        # feed each input to the perceptron (only foward step!)\n",
    "        output = mlp.forward_step(x[k])   \n",
    "        # this turns true if the perceptron gave the right output (as given in the\n",
    "        # assignment), then adds 1 to the accuracy sum\n",
    "        accuracy_sum += int(((output > 0.5) and (t[k] == 1)) or ((output < 0.5) and (t[k] == 0)))\n",
    "        # calculates the loss as given in the assignment\n",
    "        loss_sum += (t[k] - output)**2\n",
    "    # divide through all the training examples to obtain the average accuracy and loss\n",
    "    accuracy = accuracy_sum / len(x)                  \n",
    "    accuracies.append(accuracy)\n",
    "    loss = loss_sum / len(x)\n",
    "    avg_loss.append(loss)"
   ]
  },
  {
   "cell_type": "code",
   "execution_count": 22,
   "metadata": {},
   "outputs": [
    {
     "name": "stdout",
     "output_type": "stream",
     "text": [
      "Input:  [1 1]  \t True Label:  0  \t MLP's Prediction:  0.65114\n",
      "Input:  [1 0]  \t True Label:  1  \t MLP's Prediction:  0.60169\n",
      "Input:  [0 1]  \t True Label:  1  \t MLP's Prediction:  0.88073\n",
      "Input:  [0 0]  \t True Label:  0  \t MLP's Prediction:  0.17065\n"
     ]
    }
   ],
   "source": [
    "# We can get an overview of our results \n",
    "# If we increase the number of epochs, we see a more accurate and persistent prediction of the MLP\n",
    "for n in range(len(x)):\n",
    "    output = mlp.forward_step(x[n])\n",
    "    print(\"Input: \", np.array2string(x[n]),  \" \\t True Label: \", t[n], \" \\t MLP's Prediction: \", round(output, 5))"
   ]
  },
  {
   "cell_type": "markdown",
   "metadata": {},
   "source": [
    "## 6 Visualization\n",
    "Visualize the training progress using matplotlib. Create one graph with the epochs on\n",
    "the x-axis and the average loss per epoch on the y-axis. Do the same for the average\n",
    "accuracy per epoch. If your MLP trained correctly the loss should come down to zero\n",
    "and the accuracy should go up to 1 in most cases. Due to random weight initialisation\n",
    "the accuracy might not reach 1 sometimes. In that case just rerun the MLP initialisation\n",
    "and the training."
   ]
  },
  {
   "cell_type": "code",
   "execution_count": 23,
   "metadata": {},
   "outputs": [
    {
     "data": {
      "image/png": "[encoded data removed]",
      "text/plain": [
       "<Figure size 432x288 with 1 Axes>"
      ]
     },
     "metadata": {
      "needs_background": "light"
     },
     "output_type": "display_data"
    },
    {
     "data": {
      "text/plain": [
       "<function matplotlib.pyplot.show(close=None, block=None)>"
      ]
     },
     "execution_count": 23,
     "metadata": {},
     "output_type": "execute_result"
    },
    {
     "data": {
      "image/png": "[encoded data removed]",
      "text/plain": [
       "<Figure size 432x288 with 1 Axes>"
      ]
     },
     "metadata": {
      "needs_background": "light"
     },
     "output_type": "display_data"
    }
   ],
   "source": [
    "import matplotlib.pyplot as plt\n",
    "\n",
    "# we visualize the average loss per epoch\n",
    "plt.figure()\n",
    "plt.plot(epochs, avg_loss)\n",
    "plt.xlabel(\"Epochs\")\n",
    "plt.ylabel(\"Average Loss per Epoch\")\n",
    "plt.show()\n",
    "\n",
    "# we visualize the average accuracy per epoch\n",
    "plt.figure()\n",
    "plt.plot(epochs, accuracies)\n",
    "plt.xlabel(\"Epochs\")\n",
    "plt.ylabel(\"Average Accuracy per Epoch\")\n",
    "plt.show"
   ]
  }
 ],
 "metadata": {
  "kernelspec": {
   "display_name": "Python 3",
   "language": "python",
   "name": "python3"
  },
  "language_info": {
   "codemirror_mode": {
    "name": "ipython",
    "version": 3
   },
   "file_extension": ".py",
   "mimetype": "text/x-python",
   "name": "python",
   "nbconvert_exporter": "python",
   "pygments_lexer": "ipython3",
   "version": "3.7.9"
  }
 },
 "nbformat": 4,
 "nbformat_minor": 4
}
